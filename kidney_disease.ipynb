{
  "cells": [
    {
      "cell_type": "code",
      "execution_count": null,
      "metadata": {
        "id": "TZwWSOmve45e"
      },
      "outputs": [],
      "source": [
        "import numpy as np\n",
        "import pandas as pd\n"
      ]
    },
    {
      "cell_type": "code",
      "execution_count": null,
      "metadata": {
        "id": "9QQRO4IXe45g"
      },
      "outputs": [],
      "source": [
        "data=pd.read_csv('D:\\kidney_disease/new_model.csv')"
      ]
    },
    {
      "cell_type": "code",
      "execution_count": null,
      "metadata": {
        "id": "YlxsLOJTe45h",
        "outputId": "4267815b-c0db-4542-b3bc-696f7da52027"
      },
      "outputs": [
        {
          "data": {
            "text/html": [
              "<div>\n",
              "<style scoped>\n",
              "    .dataframe tbody tr th:only-of-type {\n",
              "        vertical-align: middle;\n",
              "    }\n",
              "\n",
              "    .dataframe tbody tr th {\n",
              "        vertical-align: top;\n",
              "    }\n",
              "\n",
              "    .dataframe thead th {\n",
              "        text-align: right;\n",
              "    }\n",
              "</style>\n",
              "<table border=\"1\" class=\"dataframe\">\n",
              "  <thead>\n",
              "    <tr style=\"text-align: right;\">\n",
              "      <th></th>\n",
              "      <th>Bp</th>\n",
              "      <th>Sg</th>\n",
              "      <th>Al</th>\n",
              "      <th>Su</th>\n",
              "      <th>Rbc</th>\n",
              "      <th>Bu</th>\n",
              "      <th>Sc</th>\n",
              "      <th>Sod</th>\n",
              "      <th>Pot</th>\n",
              "      <th>Hemo</th>\n",
              "      <th>Wbcc</th>\n",
              "      <th>Rbcc</th>\n",
              "      <th>Htn</th>\n",
              "      <th>Class</th>\n",
              "    </tr>\n",
              "  </thead>\n",
              "  <tbody>\n",
              "    <tr>\n",
              "      <td>0</td>\n",
              "      <td>80.0</td>\n",
              "      <td>1.020</td>\n",
              "      <td>1.0</td>\n",
              "      <td>0.0</td>\n",
              "      <td>1.0</td>\n",
              "      <td>36.0</td>\n",
              "      <td>1.2</td>\n",
              "      <td>137.53</td>\n",
              "      <td>4.63</td>\n",
              "      <td>15.4</td>\n",
              "      <td>7800.0</td>\n",
              "      <td>5.20</td>\n",
              "      <td>1.0</td>\n",
              "      <td>1</td>\n",
              "    </tr>\n",
              "    <tr>\n",
              "      <td>1</td>\n",
              "      <td>50.0</td>\n",
              "      <td>1.020</td>\n",
              "      <td>4.0</td>\n",
              "      <td>0.0</td>\n",
              "      <td>1.0</td>\n",
              "      <td>18.0</td>\n",
              "      <td>0.8</td>\n",
              "      <td>137.53</td>\n",
              "      <td>4.63</td>\n",
              "      <td>11.3</td>\n",
              "      <td>6000.0</td>\n",
              "      <td>4.71</td>\n",
              "      <td>0.0</td>\n",
              "      <td>1</td>\n",
              "    </tr>\n",
              "    <tr>\n",
              "      <td>2</td>\n",
              "      <td>80.0</td>\n",
              "      <td>1.010</td>\n",
              "      <td>2.0</td>\n",
              "      <td>3.0</td>\n",
              "      <td>1.0</td>\n",
              "      <td>53.0</td>\n",
              "      <td>1.8</td>\n",
              "      <td>137.53</td>\n",
              "      <td>4.63</td>\n",
              "      <td>9.6</td>\n",
              "      <td>7500.0</td>\n",
              "      <td>4.71</td>\n",
              "      <td>0.0</td>\n",
              "      <td>1</td>\n",
              "    </tr>\n",
              "    <tr>\n",
              "      <td>3</td>\n",
              "      <td>70.0</td>\n",
              "      <td>1.005</td>\n",
              "      <td>4.0</td>\n",
              "      <td>0.0</td>\n",
              "      <td>1.0</td>\n",
              "      <td>56.0</td>\n",
              "      <td>3.8</td>\n",
              "      <td>111.00</td>\n",
              "      <td>2.50</td>\n",
              "      <td>11.2</td>\n",
              "      <td>6700.0</td>\n",
              "      <td>3.90</td>\n",
              "      <td>1.0</td>\n",
              "      <td>1</td>\n",
              "    </tr>\n",
              "    <tr>\n",
              "      <td>4</td>\n",
              "      <td>80.0</td>\n",
              "      <td>1.010</td>\n",
              "      <td>2.0</td>\n",
              "      <td>0.0</td>\n",
              "      <td>1.0</td>\n",
              "      <td>26.0</td>\n",
              "      <td>1.4</td>\n",
              "      <td>137.53</td>\n",
              "      <td>4.63</td>\n",
              "      <td>11.6</td>\n",
              "      <td>7300.0</td>\n",
              "      <td>4.60</td>\n",
              "      <td>0.0</td>\n",
              "      <td>1</td>\n",
              "    </tr>\n",
              "    <tr>\n",
              "      <td>...</td>\n",
              "      <td>...</td>\n",
              "      <td>...</td>\n",
              "      <td>...</td>\n",
              "      <td>...</td>\n",
              "      <td>...</td>\n",
              "      <td>...</td>\n",
              "      <td>...</td>\n",
              "      <td>...</td>\n",
              "      <td>...</td>\n",
              "      <td>...</td>\n",
              "      <td>...</td>\n",
              "      <td>...</td>\n",
              "      <td>...</td>\n",
              "      <td>...</td>\n",
              "    </tr>\n",
              "    <tr>\n",
              "      <td>395</td>\n",
              "      <td>80.0</td>\n",
              "      <td>1.020</td>\n",
              "      <td>0.0</td>\n",
              "      <td>0.0</td>\n",
              "      <td>1.0</td>\n",
              "      <td>49.0</td>\n",
              "      <td>0.5</td>\n",
              "      <td>150.00</td>\n",
              "      <td>4.90</td>\n",
              "      <td>15.7</td>\n",
              "      <td>6700.0</td>\n",
              "      <td>4.90</td>\n",
              "      <td>0.0</td>\n",
              "      <td>0</td>\n",
              "    </tr>\n",
              "    <tr>\n",
              "      <td>396</td>\n",
              "      <td>70.0</td>\n",
              "      <td>1.025</td>\n",
              "      <td>0.0</td>\n",
              "      <td>0.0</td>\n",
              "      <td>1.0</td>\n",
              "      <td>31.0</td>\n",
              "      <td>1.2</td>\n",
              "      <td>141.00</td>\n",
              "      <td>3.50</td>\n",
              "      <td>16.5</td>\n",
              "      <td>7800.0</td>\n",
              "      <td>6.20</td>\n",
              "      <td>0.0</td>\n",
              "      <td>0</td>\n",
              "    </tr>\n",
              "    <tr>\n",
              "      <td>397</td>\n",
              "      <td>80.0</td>\n",
              "      <td>1.020</td>\n",
              "      <td>0.0</td>\n",
              "      <td>0.0</td>\n",
              "      <td>1.0</td>\n",
              "      <td>26.0</td>\n",
              "      <td>0.6</td>\n",
              "      <td>137.00</td>\n",
              "      <td>4.40</td>\n",
              "      <td>15.8</td>\n",
              "      <td>6600.0</td>\n",
              "      <td>5.40</td>\n",
              "      <td>0.0</td>\n",
              "      <td>0</td>\n",
              "    </tr>\n",
              "    <tr>\n",
              "      <td>398</td>\n",
              "      <td>60.0</td>\n",
              "      <td>1.025</td>\n",
              "      <td>0.0</td>\n",
              "      <td>0.0</td>\n",
              "      <td>1.0</td>\n",
              "      <td>50.0</td>\n",
              "      <td>1.0</td>\n",
              "      <td>135.00</td>\n",
              "      <td>4.90</td>\n",
              "      <td>14.2</td>\n",
              "      <td>7200.0</td>\n",
              "      <td>5.90</td>\n",
              "      <td>0.0</td>\n",
              "      <td>0</td>\n",
              "    </tr>\n",
              "    <tr>\n",
              "      <td>399</td>\n",
              "      <td>80.0</td>\n",
              "      <td>1.025</td>\n",
              "      <td>0.0</td>\n",
              "      <td>0.0</td>\n",
              "      <td>1.0</td>\n",
              "      <td>18.0</td>\n",
              "      <td>1.1</td>\n",
              "      <td>141.00</td>\n",
              "      <td>3.50</td>\n",
              "      <td>15.8</td>\n",
              "      <td>6800.0</td>\n",
              "      <td>6.10</td>\n",
              "      <td>0.0</td>\n",
              "      <td>0</td>\n",
              "    </tr>\n",
              "  </tbody>\n",
              "</table>\n",
              "<p>400 rows × 14 columns</p>\n",
              "</div>"
            ],
            "text/plain": [
              "       Bp     Sg   Al   Su  Rbc    Bu   Sc     Sod   Pot  Hemo    Wbcc  Rbcc  \\\n",
              "0    80.0  1.020  1.0  0.0  1.0  36.0  1.2  137.53  4.63  15.4  7800.0  5.20   \n",
              "1    50.0  1.020  4.0  0.0  1.0  18.0  0.8  137.53  4.63  11.3  6000.0  4.71   \n",
              "2    80.0  1.010  2.0  3.0  1.0  53.0  1.8  137.53  4.63   9.6  7500.0  4.71   \n",
              "3    70.0  1.005  4.0  0.0  1.0  56.0  3.8  111.00  2.50  11.2  6700.0  3.90   \n",
              "4    80.0  1.010  2.0  0.0  1.0  26.0  1.4  137.53  4.63  11.6  7300.0  4.60   \n",
              "..    ...    ...  ...  ...  ...   ...  ...     ...   ...   ...     ...   ...   \n",
              "395  80.0  1.020  0.0  0.0  1.0  49.0  0.5  150.00  4.90  15.7  6700.0  4.90   \n",
              "396  70.0  1.025  0.0  0.0  1.0  31.0  1.2  141.00  3.50  16.5  7800.0  6.20   \n",
              "397  80.0  1.020  0.0  0.0  1.0  26.0  0.6  137.00  4.40  15.8  6600.0  5.40   \n",
              "398  60.0  1.025  0.0  0.0  1.0  50.0  1.0  135.00  4.90  14.2  7200.0  5.90   \n",
              "399  80.0  1.025  0.0  0.0  1.0  18.0  1.1  141.00  3.50  15.8  6800.0  6.10   \n",
              "\n",
              "     Htn  Class  \n",
              "0    1.0      1  \n",
              "1    0.0      1  \n",
              "2    0.0      1  \n",
              "3    1.0      1  \n",
              "4    0.0      1  \n",
              "..   ...    ...  \n",
              "395  0.0      0  \n",
              "396  0.0      0  \n",
              "397  0.0      0  \n",
              "398  0.0      0  \n",
              "399  0.0      0  \n",
              "\n",
              "[400 rows x 14 columns]"
            ]
          },
          "execution_count": 4,
          "metadata": {},
          "output_type": "execute_result"
        }
      ],
      "source": [
        "data"
      ]
    },
    {
      "cell_type": "code",
      "execution_count": null,
      "metadata": {
        "id": "m4Rb6cBhe45h",
        "outputId": "375cdd21-8b3a-4971-a930-2b0e8446d7a9"
      },
      "outputs": [
        {
          "name": "stdout",
          "output_type": "stream",
          "text": [
            "<class 'pandas.core.frame.DataFrame'>\n",
            "RangeIndex: 400 entries, 0 to 399\n",
            "Data columns (total 14 columns):\n",
            "Bp       400 non-null float64\n",
            "Sg       400 non-null float64\n",
            "Al       400 non-null float64\n",
            "Su       400 non-null float64\n",
            "Rbc      400 non-null float64\n",
            "Bu       400 non-null float64\n",
            "Sc       400 non-null float64\n",
            "Sod      400 non-null float64\n",
            "Pot      400 non-null float64\n",
            "Hemo     400 non-null float64\n",
            "Wbcc     400 non-null float64\n",
            "Rbcc     400 non-null float64\n",
            "Htn      400 non-null float64\n",
            "Class    400 non-null int64\n",
            "dtypes: float64(13), int64(1)\n",
            "memory usage: 43.9 KB\n"
          ]
        }
      ],
      "source": [
        "data.info()"
      ]
    },
    {
      "cell_type": "code",
      "execution_count": null,
      "metadata": {
        "id": "aog2oa1Ne45i"
      },
      "outputs": [],
      "source": [
        "x=data.iloc[:,0:13]\n",
        "y=data.iloc[:,-1]\n"
      ]
    },
    {
      "cell_type": "code",
      "execution_count": null,
      "metadata": {
        "id": "BxC2vmGee45j"
      },
      "outputs": [],
      "source": [
        "from sklearn.model_selection import train_test_split"
      ]
    },
    {
      "cell_type": "code",
      "execution_count": null,
      "metadata": {
        "id": "ZT5bfGDse45j"
      },
      "outputs": [],
      "source": [
        "xtrain,xtest,ytrain,ytest=train_test_split(x,y,test_size=0.2,random_state=25)"
      ]
    },
    {
      "cell_type": "code",
      "execution_count": null,
      "metadata": {
        "id": "Yqv62pXYe45j"
      },
      "outputs": [],
      "source": [
        "from sklearn.model_selection import GridSearchCV\n",
        "from sklearn.metrics import make_scorer\n",
        "from sklearn.metrics import recall_score\n",
        "from sklearn.metrics import roc_auc_score\n",
        "from sklearn.model_selection import learning_curve\n",
        "from sklearn.model_selection import ShuffleSplit\n",
        "from sklearn.ensemble import RandomForestClassifier\n",
        "from sklearn.svm import SVC\n",
        "from sklearn.tree import DecisionTreeClassifier\n"
      ]
    },
    {
      "cell_type": "code",
      "execution_count": null,
      "metadata": {
        "id": "VfmmJhd0e45k"
      },
      "outputs": [],
      "source": [
        "def shuffle(n_split=10,test_siz=0.2,random_stat=5):\n",
        "    sset=ShuffleSplit(n_splits=n_split,test_size=test_siz,random_state=random_stat)\n",
        "    return sset"
      ]
    },
    {
      "cell_type": "code",
      "execution_count": null,
      "metadata": {
        "id": "v7fI4Xyfe45l"
      },
      "outputs": [],
      "source": [
        "def tunning_random_forest(x,y):\n",
        "    dt_clf=RandomForestClassifier()\n",
        "    scorer=make_scorer(roc_auc_score)\n",
        "    parameters={'n_estimators':[10,20,30,40,50,60,70,80,90,100],'criterion':['gini','entropy']}\n",
        "    obj=GridSearchCV(dt_clf,parameters,scoring=scorer,cv=shuffle())\n",
        "    obj=obj.fit(x,y)\n",
        "    best_clf=obj.best_estimator_\n",
        "    print(best_clf)\n",
        "    return best_clf"
      ]
    },
    {
      "cell_type": "code",
      "execution_count": null,
      "metadata": {
        "id": "bhOuvTKRe45m"
      },
      "outputs": [],
      "source": [
        "def tunning_decision_tree(x,y):\n",
        "    dt_clf=DecisionTreeClassifier(random_state=5)\n",
        "    scorer=make_scorer(roc_auc_score)\n",
        "    parameters={\"criterion\":['gini', 'entropy'],'splitter':['best','random'],'max_depth':range(1,8),'min_samples_split':range(2,4),'min_samples_leaf':[0.1,0.2,0.3,0.4,0.5]\n",
        "               ,\"max_features\":['auto', 'sqrt', 'log2'],'max_leaf_nodes':range(2,5)}\n",
        "    obj=GridSearchCV(dt_clf,parameters,scoring=scorer,cv=shuffle())\n",
        "    obj=obj.fit(x,y)\n",
        "    best_clf=obj.best_estimator_\n",
        "    print(best_clf)\n",
        "    return best_clf"
      ]
    },
    {
      "cell_type": "code",
      "execution_count": null,
      "metadata": {
        "id": "LXy1L7HDe45m"
      },
      "outputs": [],
      "source": [
        "def tunning_svm(x,y):\n",
        "    dt_clf=SVC(random_state=5)\n",
        "    scorer=make_scorer(recall_score)\n",
        "    parameters={'C':range(1,6),'gamma':['auto']}\n",
        "    obj=GridSearchCV(dt_clf,parameters,scoring=scorer,cv=shuffle())\n",
        "    obj=obj.fit(x,y)\n",
        "    best_clf=obj.best_estimator_\n",
        "    print(best_clf)\n",
        "    return best_clf\n",
        "    "
      ]
    },
    {
      "cell_type": "code",
      "execution_count": null,
      "metadata": {
        "id": "ME2iL3iHe45m"
      },
      "outputs": [],
      "source": [
        "def learning_graph(estimator,x,y):\n",
        "    train_size,train_score,test_score=learning_curve(estimator,x,y,cv=shuffle(),train_sizes=np.linspace(0.1,1.0,10))\n",
        "    train_scores_mean=np.mean(train_score,axis=1)\n",
        "    test_scores_mean=np.mean(test_score,axis=0)\n",
        "    plt.grid()\n",
        "    plt.plot(train_scores_mean,'o-',color='g')\n",
        "    plt.plot(test_scores_mean,'o-',color='r')\n",
        "    plt.show()"
      ]
    },
    {
      "cell_type": "code",
      "execution_count": null,
      "metadata": {
        "id": "Betm8-2ke45n"
      },
      "outputs": [],
      "source": [
        "from sklearn.metrics import roc_curve\n",
        "def roc_c(ytest,prediction):\n",
        "    fpr,tpr,threshold=roc_curve(ytest,prediction)\n",
        "    plt.grid()\n",
        "    plt.plot(fpr,tpr)\n",
        "    plt.legend(\"roc curve\")\n",
        "    plt.show()\n",
        "    "
      ]
    },
    {
      "cell_type": "code",
      "execution_count": null,
      "metadata": {
        "id": "EIQIx9Tke45o"
      },
      "outputs": [],
      "source": [
        "import matplotlib.pyplot as plt\n",
        "%matplotlib inline"
      ]
    },
    {
      "cell_type": "code",
      "execution_count": null,
      "metadata": {
        "id": "Rhju1bgMe45o",
        "outputId": "9438a92f-7c38-4110-ca6b-570e3f73ff49"
      },
      "outputs": [
        {
          "name": "stdout",
          "output_type": "stream",
          "text": [
            "RandomForestClassifier(bootstrap=True, class_weight=None, criterion='entropy',\n",
            "                       max_depth=None, max_features='auto', max_leaf_nodes=None,\n",
            "                       min_impurity_decrease=0.0, min_impurity_split=None,\n",
            "                       min_samples_leaf=1, min_samples_split=2,\n",
            "                       min_weight_fraction_leaf=0.0, n_estimators=100,\n",
            "                       n_jobs=None, oob_score=False, random_state=None,\n",
            "                       verbose=0, warm_start=False)\n"
          ]
        },
        {
          "data": {
            "image/png": "[encoded data removed]",
            "text/plain": [
              "<Figure size 432x288 with 1 Axes>"
            ]
          },
          "metadata": {
            "needs_background": "light"
          },
          "output_type": "display_data"
        },
        {
          "data": {
            "image/png": "[encoded data removed]",
            "text/plain": [
              "<Figure size 432x288 with 1 Axes>"
            ]
          },
          "metadata": {
            "needs_background": "light"
          },
          "output_type": "display_data"
        },
        {
          "name": "stdout",
          "output_type": "stream",
          "text": [
            "0.9838709677419355\n",
            "[[30  1]\n",
            " [ 0 49]]\n"
          ]
        }
      ],
      "source": [
        "clf1=tunning_random_forest(xtrain,ytrain)\n",
        "learning_graph(clf1,xtrain,ytrain)\n",
        "pred1=clf1.predict(xtest)\n",
        "roc_c(ytest,pred1)\n",
        "from sklearn.metrics import roc_auc_score\n",
        "auc=roc_auc_score(ytest,pred1)\n",
        "print(auc)\n",
        "from sklearn.metrics import confusion_matrix\n",
        "print(confusion_matrix(ytest,pred1))"
      ]
    },
    {
      "cell_type": "code",
      "execution_count": null,
      "metadata": {
        "id": "-Qe4WjLqe45p",
        "outputId": "d25c428f-2d00-4505-ccd6-43ecd25c5eed"
      },
      "outputs": [
        {
          "name": "stdout",
          "output_type": "stream",
          "text": [
            "DecisionTreeClassifier(class_weight=None, criterion='entropy', max_depth=2,\n",
            "                       max_features='auto', max_leaf_nodes=3,\n",
            "                       min_impurity_decrease=0.0, min_impurity_split=None,\n",
            "                       min_samples_leaf=0.1, min_samples_split=2,\n",
            "                       min_weight_fraction_leaf=0.0, presort=False,\n",
            "                       random_state=5, splitter='best')\n"
          ]
        },
        {
          "data": {
            "image/png": "[encoded data removed]",
            "text/plain": [
              "<Figure size 432x288 with 1 Axes>"
            ]
          },
          "metadata": {
            "needs_background": "light"
          },
          "output_type": "display_data"
        },
        {
          "data": {
            "image/png": "[encoded data removed]",
            "text/plain": [
              "<Figure size 432x288 with 1 Axes>"
            ]
          },
          "metadata": {
            "needs_background": "light"
          },
          "output_type": "display_data"
        },
        {
          "name": "stdout",
          "output_type": "stream",
          "text": [
            "0.8666886109282422\n",
            "[[24  7]\n",
            " [ 2 47]]\n"
          ]
        }
      ],
      "source": [
        "clf2=tunning_decision_tree(xtrain,ytrain)\n",
        "learning_graph(clf2,xtrain,ytrain)\n",
        "pred2=clf2.predict(xtest)\n",
        "roc_c(ytest,pred2)\n",
        "from sklearn.metrics import roc_auc_score\n",
        "auc=roc_auc_score(ytest,pred2)\n",
        "print(auc)\n",
        "from sklearn.metrics import confusion_matrix\n",
        "print(confusion_matrix(ytest,pred2))"
      ]
    },
    {
      "cell_type": "code",
      "execution_count": null,
      "metadata": {
        "id": "AKm-O8IVe45p",
        "outputId": "f2438355-69e2-4a60-917c-cd76d51bc6db"
      },
      "outputs": [
        {
          "name": "stdout",
          "output_type": "stream",
          "text": [
            "SVC(C=1, cache_size=200, class_weight=None, coef0=0.0,\n",
            "    decision_function_shape='ovr', degree=3, gamma='auto', kernel='rbf',\n",
            "    max_iter=-1, probability=False, random_state=5, shrinking=True, tol=0.001,\n",
            "    verbose=False)\n"
          ]
        },
        {
          "data": {
            "image/png": "[encoded data removed]",
            "text/plain": [
              "<Figure size 432x288 with 1 Axes>"
            ]
          },
          "metadata": {
            "needs_background": "light"
          },
          "output_type": "display_data"
        },
        {
          "data": {
            "image/png": "[encoded data removed]",
            "text/plain": [
              "<Figure size 432x288 with 1 Axes>"
            ]
          },
          "metadata": {
            "needs_background": "light"
          },
          "output_type": "display_data"
        },
        {
          "data": {
            "text/plain": [
              "0.5"
            ]
          },
          "execution_count": 19,
          "metadata": {},
          "output_type": "execute_result"
        }
      ],
      "source": [
        "clf3=tunning_svm(xtrain,ytrain)\n",
        "learning_graph(clf3,xtrain,ytrain)\n",
        "pred3=clf3.predict(xtest)\n",
        "roc_c(ytest,pred3)\n",
        "from sklearn.metrics import roc_auc_score\n",
        "auc=roc_auc_score(ytest,pred3)\n",
        "auc"
      ]
    },
    {
      "cell_type": "code",
      "execution_count": null,
      "metadata": {
        "id": "b_rpysGge45q",
        "outputId": "dc2f51e9-b647-4f18-c095-87672e338396"
      },
      "outputs": [
        {
          "name": "stdout",
          "output_type": "stream",
          "text": [
            "[[ 0 31]\n",
            " [ 0 49]]\n"
          ]
        }
      ],
      "source": [
        "from sklearn.metrics import confusion_matrix\n",
        "print(confusion_matrix(ytest,pred3))"
      ]
    },
    {
      "cell_type": "code",
      "execution_count": null,
      "metadata": {
        "id": "wtBksKy_e45q"
      },
      "outputs": [],
      "source": [
        ""
      ]
    },
    {
      "cell_type": "code",
      "execution_count": null,
      "metadata": {
        "id": "4nwqVLuZe45q"
      },
      "outputs": [],
      "source": [
        ""
      ]
    },
    {
      "cell_type": "code",
      "execution_count": null,
      "metadata": {
        "id": "wpHotAeRe45r"
      },
      "outputs": [],
      "source": [
        ""
      ]
    },
    {
      "cell_type": "code",
      "execution_count": null,
      "metadata": {
        "id": "OLOeIQ3xe45r"
      },
      "outputs": [],
      "source": [
        ""
      ]
    }
  ],
  "metadata": {
    "kernelspec": {
      "display_name": "Python 3",
      "language": "python",
      "name": "python3"
    },
    "language_info": {
      "codemirror_mode": {
        "name": "ipython",
        "version": 3
      },
      "file_extension": ".py",
      "mimetype": "text/x-python",
      "name": "python",
      "nbconvert_exporter": "python",
      "pygments_lexer": "ipython3",
      "version": "3.7.4"
    },
    "colab": {
      "name": "kidney_disease.ipynb",
      "provenance": []
    }
  },
  "nbformat": 4,
  "nbformat_minor": 0
}